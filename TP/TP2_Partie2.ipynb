{
  "nbformat": 4,
  "nbformat_minor": 0,
  "metadata": {
    "colab": {
      "provenance": []
    },
    "kernelspec": {
      "name": "python3",
      "display_name": "Python 3"
    },
    "language_info": {
      "name": "python"
    }
  },
  "cells": [
    {
      "cell_type": "markdown",
      "source": [
        "## Optimizing Random Forests for Image Classification with CIFAR-10\n",
        "\n"
      ],
      "metadata": {
        "id": "FiYJdHcgcPjg"
      }
    },
    {
      "cell_type": "markdown",
      "source": [
        "Objective: In this exercise, we will explore techniques for optimizing random forests to enhance the performance of an image classification model. We will utilize the CIFAR-10 dataset, consisting of 60,000 images categorized into 10 different classes, which can be obtained from the PyTorch torchvision library. The steps include importing necessary libraries, data preprocessing involving normalization and splitting into training, validation, and test sets. We will then create a random forest model using the RandomForestClassifier class from scikit-learn. Following model training and evaluation, we will delve into hyperparameter tuning, such as the number of trees and maximum tree depth, using grid search or random search to discover the best hyperparameter combinations for improved performance on the validation set. Once we have identified the optimal hyperparameters, model performance will be assessed on the test set to provide a realistic estimation of its real-world performance.\n",
        "\n",
        "\n",
        "\n"
      ],
      "metadata": {
        "id": "FW19X4hIbGsA"
      }
    },
    {
      "cell_type": "code",
      "execution_count": null,
      "metadata": {
        "colab": {
          "base_uri": "https://localhost:8080/"
        },
        "id": "exOVN-LpVlQ9",
        "outputId": "3d8b2080-ed43-43d4-e6df-04da433a4aea"
      },
      "outputs": [
        {
          "output_type": "stream",
          "name": "stderr",
          "text": [
            "/usr/local/lib/python3.10/dist-packages/sklearn/datasets/_openml.py:968: FutureWarning: The default value of `parser` will change from `'liac-arff'` to `'auto'` in 1.4. You can set `parser='auto'` to silence this warning. Therefore, an `ImportError` will be raised from 1.4 if the dataset is dense and pandas is not installed. Note that the pandas parser may return different data types. See the Notes Section in fetch_openml's API doc for details.\n",
            "  warn(\n"
          ]
        },
        {
          "output_type": "stream",
          "name": "stdout",
          "text": [
            "Accuracy (Baseline): 0.45766666666666667\n",
            "Best Hyperparameters: {'max_depth': 9, 'n_estimators': 30}\n",
            "Accuracy (Best Model): 0.3915\n",
            "Accuracy (Test Set): 0.3915\n"
          ]
        }
      ],
      "source": [
        "import numpy as np\n",
        "from sklearn.ensemble import RandomForestClassifier\n",
        "from sklearn.metrics import accuracy_score\n",
        "from sklearn.datasets import fetch_openml\n",
        "from sklearn.model_selection import train_test_split, GridSearchCV\n",
        "\n",
        "# Step 1: Import Necessary Libraries\n",
        "from sklearn.datasets import fetch_openml\n",
        "from sklearn.ensemble import RandomForestClassifier\n",
        "\n",
        "# Step 2: Load CIFAR-10 Dataset\n",
        "cifar = fetch_openml(name=\"CIFAR_10\")\n",
        "\n",
        "X = cifar.data.astype(\"int\")\n",
        "y = cifar.target.astype(\"int\")\n",
        "\n",
        "# Step 3: Preprocess Data and Split\n",
        "X_train, X_test, y_train, y_test = train_test_split(X, y, test_size=0.2, random_state=42)\n",
        "\n",
        "# Step 4: Create a Random Forest Model (Baseline)\n",
        "rf_model = RandomForestClassifier(random_state=42)\n",
        "\n",
        "# Step 5: Train and Evaluate the Baseline Model\n",
        "rf_model.fit(X_train, y_train)\n",
        "y_pred = rf_model.predict(X_test)\n",
        "accuracy_baseline = accuracy_score(y_test, y_pred)\n",
        "\n",
        "print(\"Accuracy (Baseline):\", accuracy_baseline)\n",
        "\n",
        "# Step 6: Explore Hyperparameters\n",
        "param_grid = {\n",
        "    'n_estimators': [10, 20, 30],\n",
        "    'max_depth': [4, 6, 9],\n",
        "}\n",
        "\n",
        "grid_search = GridSearchCV(RandomForestClassifier(random_state=42), param_grid, cv=3)\n",
        "grid_search.fit(X_train, y_train)\n",
        "\n",
        "best_params = grid_search.best_params_\n",
        "best_rf_model = RandomForestClassifier(random_state=42, **best_params)\n",
        "best_rf_model.fit(X_train, y_train)\n",
        "y_pred_best = best_rf_model.predict(X_test)\n",
        "accuracy_best = accuracy_score(y_test, y_pred_best)\n",
        "\n",
        "print(\"Best Hyperparameters:\", best_params)\n",
        "print(\"Accuracy (Best Model):\", accuracy_best)\n",
        "\n",
        "# Step 7: Evaluate on the Test Set\n",
        "y_test_pred = best_rf_model.predict(X_test)\n",
        "accuracy_test = accuracy_score(y_test, y_test_pred)\n",
        "\n",
        "print(\"Accuracy (Test Set):\", accuracy_test)\n"
      ]
    },
    {
      "cell_type": "markdown",
      "source": [
        "***Analysis:***The initial baseline accuracy stood at 45.77%. After a hyperparameter search, the best model configuration was identified with a max tree depth of 9 and 30 trees (n_estimators=30), achieving an accuracy of 39.15%. This accuracy was consistent when tested on an independent dataset, suggesting that the optimized model maintained performance reliability without significant improvement."
      ],
      "metadata": {
        "id": "rZ5C4s3Oesa9"
      }
    },
    {
      "cell_type": "markdown",
      "source": [
        "## Second Experiment: Hyperparameters 'n_estimators': 50 and 'max_depth': 20"
      ],
      "metadata": {
        "id": "usHETHJli10o"
      }
    },
    {
      "cell_type": "code",
      "source": [
        "# Step 6: Explore Hyperparameters\n",
        "param_grid = {\n",
        "    'n_estimators': [50],\n",
        "    'max_depth': [20],\n",
        "}\n",
        "\n",
        "grid_search = GridSearchCV(RandomForestClassifier(random_state=42), param_grid, cv=3)\n",
        "grid_search.fit(X_train, y_train)\n",
        "\n",
        "best_params = grid_search.best_params_\n",
        "best_rf_model = RandomForestClassifier(random_state=42, **best_params)\n",
        "best_rf_model.fit(X_train, y_train)\n",
        "y_pred_best = best_rf_model.predict(X_test)\n",
        "accuracy_best = accuracy_score(y_test, y_pred_best)\n",
        "\n",
        "print(\"Best Hyperparameters:\", best_params)\n",
        "print(\"Accuracy (Best Model):\", accuracy_best)\n",
        "\n",
        "# Step 7: Evaluate on the Test Set\n",
        "y_test_pred = best_rf_model.predict(X_test)\n",
        "accuracy_test = accuracy_score(y_test, y_test_pred)\n",
        "\n",
        "print(\"Accuracy (Test Set):\", accuracy_test)\n"
      ],
      "metadata": {
        "colab": {
          "base_uri": "https://localhost:8080/"
        },
        "id": "z2uHLqlFfUdk",
        "outputId": "a896333b-5b81-444d-fb5b-61fc37c7b04d"
      },
      "execution_count": null,
      "outputs": [
        {
          "output_type": "stream",
          "name": "stdout",
          "text": [
            "Best Hyperparameters: {'max_depth': 20, 'n_estimators': 50}\n",
            "Accuracy (Best Model): 0.4369166666666667\n",
            "Accuracy (Test Set): 0.4369166666666667\n"
          ]
        }
      ]
    },
    {
      "cell_type": "markdown",
      "source": [
        "***Analysis:*** The best model, with hyperparameters max_depth=20 and n_estimators=50, achieved an accuracy of approximately 43.69% on the validation and test sets, suggesting a consistent and reasonable level of performance, but it still falls short of the baseline model's accuracy."
      ],
      "metadata": {
        "id": "hyvGjBFuiatP"
      }
    },
    {
      "cell_type": "markdown",
      "source": [
        "## Third Experiment: Hyperparameters 'n_estimators': 100 and 'max_depth': 25"
      ],
      "metadata": {
        "id": "i1zPnT0QjK2O"
      }
    },
    {
      "cell_type": "code",
      "source": [
        "# Step 6: Explore Hyperparameters\n",
        "param_grid = {\n",
        "    'n_estimators': [100],\n",
        "    'max_depth': [25],\n",
        "}\n",
        "\n",
        "grid_search = GridSearchCV(RandomForestClassifier(random_state=42), param_grid, cv=3)\n",
        "grid_search.fit(X_train, y_train)\n",
        "\n",
        "best_params = grid_search.best_params_\n",
        "best_rf_model = RandomForestClassifier(random_state=42, **best_params)\n",
        "best_rf_model.fit(X_train, y_train)\n",
        "y_pred_best = best_rf_model.predict(X_test)\n",
        "accuracy_best = accuracy_score(y_test, y_pred_best)\n",
        "\n",
        "print(\"Best Hyperparameters:\", best_params)\n",
        "print(\"Accuracy (Best Model):\", accuracy_best)\n",
        "\n",
        "# Step 7: Evaluate on the Test Set\n",
        "y_test_pred = best_rf_model.predict(X_test)\n",
        "accuracy_test = accuracy_score(y_test, y_test_pred)\n",
        "\n",
        "print(\"Accuracy (Test Set):\", accuracy_test)\n"
      ],
      "metadata": {
        "colab": {
          "base_uri": "https://localhost:8080/"
        },
        "id": "PhfN121Sh4-8",
        "outputId": "b79695f0-0c9b-445a-cca8-164ed5f8ca40"
      },
      "execution_count": null,
      "outputs": [
        {
          "output_type": "stream",
          "name": "stdout",
          "text": [
            "Best Hyperparameters: {'max_depth': 25, 'n_estimators': 100}\n",
            "Accuracy (Best Model): 0.45608333333333334\n",
            "Accuracy (Test Set): 0.45608333333333334\n"
          ]
        }
      ]
    },
    {
      "cell_type": "markdown",
      "source": [
        "***Analysis:*** close but not yet"
      ],
      "metadata": {
        "id": "-oyGwAE0vuM6"
      }
    },
    {
      "cell_type": "markdown",
      "source": [
        "## Third Experiment: Hyperparameters 'n_estimators': 200 and 'max_depth': 50"
      ],
      "metadata": {
        "id": "TkHYsNrov0mk"
      }
    },
    {
      "cell_type": "code",
      "source": [
        "# Step 6: Explore Hyperparameters\n",
        "param_grid = {\n",
        "    'n_estimators': [200],\n",
        "    'max_depth': [50],\n",
        "}\n",
        "\n",
        "grid_search = GridSearchCV(RandomForestClassifier(random_state=42), param_grid, cv=3)\n",
        "grid_search.fit(X_train, y_train)\n",
        "\n",
        "best_params = grid_search.best_params_\n",
        "best_rf_model = RandomForestClassifier(random_state=42, **best_params)\n",
        "best_rf_model.fit(X_train, y_train)\n",
        "y_pred_best = best_rf_model.predict(X_test)\n",
        "accuracy_best = accuracy_score(y_test, y_pred_best)\n",
        "\n",
        "print(\"Best Hyperparameters:\", best_params)\n",
        "print(\"Accuracy (Best Model):\", accuracy_best)\n",
        "\n",
        "# Step 7: Evaluate on the Test Set\n",
        "y_test_pred = best_rf_model.predict(X_test)\n",
        "accuracy_test = accuracy_score(y_test, y_test_pred)\n",
        "\n",
        "print(\"Accuracy (Test Set):\", accuracy_test)\n"
      ],
      "metadata": {
        "id": "mN42LD1fvpVD",
        "colab": {
          "base_uri": "https://localhost:8080/"
        },
        "outputId": "654b7c25-40f4-4c83-bc37-b007ef211d33"
      },
      "execution_count": null,
      "outputs": [
        {
          "output_type": "stream",
          "name": "stdout",
          "text": [
            "Best Hyperparameters: {'max_depth': 50, 'n_estimators': 200}\n",
            "Accuracy (Best Model): 0.47\n",
            "Accuracy (Test Set): 0.47\n"
          ]
        }
      ]
    },
    {
      "cell_type": "markdown",
      "source": [
        " ***Analysis:*** The best model, with hyperparameters max_depth=50 and n_estimators=200, achieved an accuracy of 47% on the validation and test sets, demonstrating an improvement compared to the baseline results."
      ],
      "metadata": {
        "id": "qlQPTxZ75DtK"
      }
    }
  ]
}